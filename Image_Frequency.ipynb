{
 "cells": [
  {
   "cell_type": "markdown",
   "metadata": {},
   "source": [
    "# 图像频域处理\n",
    "### widgets 的使用"
   ]
  },
  {
   "cell_type": "code",
   "execution_count": 29,
   "metadata": {},
   "outputs": [],
   "source": [
    "# author: Zhijie Tan\n",
    "from __future__ import print_function\n",
    "from ipywidgets import interact, interactive, fixed, interact_manual\n",
    "import ipywidgets as widgets\n",
    "from PIL import Image\n",
    "import matplotlib\n",
    "import matplotlib.pyplot as plt\n",
    "from matplotlib.font_manager import FontProperties\n",
    "import numpy as np\n",
    "from numpy.fft import fft2,ifft2,fftshift\n",
    "%matplotlib inline\n",
    "%config InlineBackend.figure_format = 'svg'\n",
    "matplotlib.rcParams['font.sans-serif']=['Consolas-with-Yahei']"
   ]
  },
  {
   "cell_type": "code",
   "execution_count": 30,
   "metadata": {},
   "outputs": [],
   "source": [
    "Im = Image.open('cameraman.tif')\n",
    "Im = np.array(Im)"
   ]
  },
  {
   "cell_type": "code",
   "execution_count": 81,
   "metadata": {},
   "outputs": [],
   "source": [
    "def func(D1, D2):\n",
    "    I = fftshift(fft2(Im))\n",
    "    y = np.linspace(-Im.shape[0]/2, Im.shape[0]/2-1, Im.shape[0])\n",
    "    x = np.linspace(-Im.shape[1]/2, Im.shape[1]/2-1, Im.shape[0])\n",
    "    Y, X = np.meshgrid(y, x)\n",
    "    index1 = np.sqrt(Y**2+X**2) < D1\n",
    "    index2 = np.sqrt(Y**2+X**2) < D2\n",
    "    if D1 < D2:\n",
    "        filt = np.zeros(np.shape(Im))  # 在该情况下是一个带通滤波器\n",
    "        filt[index2] = 1\n",
    "        filt[index1] = 0\n",
    "    else:\n",
    "        filt = np.ones(np.shape(Im))   # 在该情况下是一个带阻滤波器\n",
    "        filt[index1] = 0\n",
    "        filt[index2] = 1\n",
    "    I_filt = ifft2(fftshift(I*filt))\n",
    "    plt.imshow(np.abs(I_filt), cmap='gray')\n",
    "    plt.axis('off')\n",
    "    plt.show()"
   ]
  },
  {
   "cell_type": "code",
   "execution_count": 82,
   "metadata": {},
   "outputs": [
    {
     "data": {
      "application/vnd.jupyter.widget-view+json": {
       "model_id": "5b5ebcda267f459595bc921c8a6c2141",
       "version_major": 2,
       "version_minor": 0
      },
      "text/plain": [
       "interactive(children=(IntSlider(value=50, description='滤波器宽度低'), IntSlider(value=50, description='滤波器宽度高'), Ou…"
      ]
     },
     "metadata": {},
     "output_type": "display_data"
    },
    {
     "data": {
      "text/plain": [
       "<function __main__.func(D1, D2)>"
      ]
     },
     "metadata": {},
     "output_type": "display_data"
    }
   ],
   "source": [
    "y = interact(\n",
    "    func,\n",
    "    D1=widgets.IntSlider(\n",
    "        value=50,\n",
    "        min=0,\n",
    "        max=100,\n",
    "        description='滤波器宽度低'\n",
    "    ),\n",
    "    D2=widgets.IntSlider(\n",
    "        value=50,\n",
    "        min=0,\n",
    "        max=100,\n",
    "        description='滤波器宽度高'\n",
    "    )\n",
    ")\n",
    "display(y)"
   ]
  }
 ],
 "metadata": {
  "kernelspec": {
   "display_name": "Python 3",
   "language": "python",
   "name": "python3"
  },
  "language_info": {
   "codemirror_mode": {
    "name": "ipython",
    "version": 3
   },
   "file_extension": ".py",
   "mimetype": "text/x-python",
   "name": "python",
   "nbconvert_exporter": "python",
   "pygments_lexer": "ipython3",
   "version": "3.7.3"
  },
  "latex_envs": {
   "LaTeX_envs_menu_present": true,
   "autoclose": false,
   "autocomplete": true,
   "bibliofile": "biblio.bib",
   "cite_by": "apalike",
   "current_citInitial": 1,
   "eqLabelWithNumbers": true,
   "eqNumInitial": 1,
   "hotkeys": {
    "equation": "Ctrl-E",
    "itemize": "Ctrl-I"
   },
   "labels_anchors": false,
   "latex_user_defs": false,
   "report_style_numbering": false,
   "user_envs_cfg": false
  },
  "varInspector": {
   "cols": {
    "lenName": 16,
    "lenType": 16,
    "lenVar": 40
   },
   "kernels_config": {
    "python": {
     "delete_cmd_postfix": "",
     "delete_cmd_prefix": "del ",
     "library": "var_list.py",
     "varRefreshCmd": "print(var_dic_list())"
    },
    "r": {
     "delete_cmd_postfix": ") ",
     "delete_cmd_prefix": "rm(",
     "library": "var_list.r",
     "varRefreshCmd": "cat(var_dic_list()) "
    }
   },
   "types_to_exclude": [
    "module",
    "function",
    "builtin_function_or_method",
    "instance",
    "_Feature"
   ],
   "window_display": false
  }
 },
 "nbformat": 4,
 "nbformat_minor": 2
}
