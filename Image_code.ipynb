{
 "cells": [
  {
   "cell_type": "markdown",
   "metadata": {},
   "source": [
    "## 图像编码\n",
    "### 位平面编码\n",
    "#### 位平面分解\n",
    "以8比特图像为例，可以分成8个图片"
   ]
  },
  {
   "cell_type": "code",
   "execution_count": 60,
   "metadata": {},
   "outputs": [],
   "source": [
    "# author： Zhijie Tan\n",
    "from PIL import Image\n",
    "from pylab import *\n",
    "from matplotlib.font_manager import FontProperties\n",
    "import numpy as np\n",
    "import sys\n",
    "%matplotlib inline\n",
    "%config InlineBackend.figure_format = 'svg'\n",
    "matplotlib.rcParams['font.sans-serif']=['Consolas-with-Yahei']"
   ]
  },
  {
   "cell_type": "code",
   "execution_count": 61,
   "metadata": {},
   "outputs": [],
   "source": [
    "Im = Image.open('cameraman.tif')\n",
    "Im = np.array(Im)\n",
    "I8bit = np.zeros((np.shape(Im)[0],np.shape(Im)[1],8))\n",
    "I8bit[:,:,0] = Im>2**7\n",
    "Im0 = Im\n",
    "for i in range(7):\n",
    "        Im0 = Im0 - I8bit[:,:,i]*2**(7-i)\n",
    "        I8bit[:,:,i+1] = (Im0)>=2**(6-i)"
   ]
  },
  {
   "cell_type": "code",
   "execution_count": 62,
   "metadata": {},
   "outputs": [
    {
     "data": {
      "image/svg+xml": [
       "<?xml version=\"1.0\" encoding=\"utf-8\" standalone=\"no\"?>\r\n",
       "<!DOCTYPE svg PUBLIC \"-//W3C//DTD SVG 1.1//EN\"\r\n",
       "  \"http://www.w3.org/Graphics/SVG/1.1/DTD/svg11.dtd\">\r\n",
       "<!-- Created with matplotlib (https://matplotlib.org/) -->\r\n",
       "<svg height=\"224.995654pt\" version=\"1.1\" viewBox=\"0 0 372.695312 224.995654\" width=\"372.695312pt\" xmlns=\"http://www.w3.org/2000/svg\" xmlns:xlink=\"http://www.w3.org/1999/xlink\">\r\n",
       " <defs>\r\n",
       "  <style type=\"text/css\">\r\n",
       "*{stroke-linecap:butt;stroke-linejoin:round;}\r\n",
       "  </style>\r\n",
       " </defs>\r\n",
       " <g id=\"figure_1\">\r\n",
       "  <g id=\"patch_1\">\r\n",
       "   <path d=\"M 0 224.995654 \r\n",
       "L 372.695312 224.995654 \r\n",
       "L 372.695312 0 \r\n",
       "L 0 0 \r\n",
       "z\r\n",
       "\" style=\"fill:none;\"/>\r\n",
       "  </g>\r\n",
       "  <g id=\"axes_1\">\r\n",
       "   <g clip-path=\"url(#pab3a12b8f2)\">\r\n",
       "    <image height=\"73\" id=\"image72f90e9293\" transform=\"scale(1 -1)translate(0 -73)\" width=\"73\" x=\"30.695312\" xlink:href=\"data:image/png;base64,\r\n",
       "iVBORw0KGgoAAAANSUhEUgAAAEkAAABJCAYAAABxcwvcAAAABHNCSVQICAgIfAhkiAAAA/pJREFUeJztWttt6zAMlY1M0e8O0CEKdIEumy0yRe4UF+lHQYNh+dSDUgAfoGgsUxJ5LD4ke/vcvh/X+62UUsrX20cBQBtt74Hr/XaMiX975gV5TmdpPE2e9sUycL1ThbCgRQ42KHrfozSWu95vTwRg/eAe1xcIAnksh8fmAH22///eH3ggOoEFjxz3hOhD4RT0jInlpVXDzUflNdtZkjgFNGWj7qitIs7dNH0sA2vsomPsuJG6GrdEI6BLm45Dl7vkMpxReDz4Te3gELXrer/9riROAW7wGnBBmhpOXYD+lmS1uVqBdd0+t++HNZk2uaWYRAhcUzmOUG9Gqo2rFp5WklcxqqSXJJiHa8f3NSKt/tKYmr5WSbLhOsk7UQRWqrdWAu5r6amFjEh9hNu/3j6e3c1boLVAGotzS04Pet9K9x5bLPt2KaPQjNELWsDFBaKVSGi7pCuXOaVsKrWzgZsqPwqRQlQCVyR659VcHeMI3FiYu24hSyoppLpGi09YF29mq0lIGLu2rGuLSApJMU1hMIo+JE8R6MmcnjADfxdNSW3CHvDEGnqtGamNg+OeBJe7UeHWZeqBluY9q8a772yxgSWJU6QVWlzS2qUA6yFDimOeghbfP04BNEN6g0sGNVuK0dkXcJwC4AlpzdITkRinyUqBdwRUd+tNkrVV4FyMk+9RlkSw2yL9ENkIa3KjVrmE1JUE0ApWKTBbOo4sVXbuqYyc2MooGjL1xLhwk4yelMKqyGlS8fbvhadXSniyUX5P55CCeY8iUEJ0EexYoSxYRyL4f0S3yFYF7wst/Mlu2ZkDQF1KOhuqDQ0SKZ7+4gYXBsgizFseWIdxVq1ljc/pcpEEOeGe0AyPZi3rPKomEeE+B0labOBkesJasZyxni1LbZam/f7EpKz0HyU8uyzBuMycPALPi4FRCO3dRivnPanMRuoGlyJyftQaZ1oQJmmUktq2Q2vPgFonZWCm8V5MdTcL3D5uBpYmqZQ1VlqYpNFKS0ezMzNciKSMp7rCyqFwvXcrJVd5aV9H71noFcvSs5unHur1QHq5aNob3B44s9vCWC4mWedaS29LZm8yZ2KpUwAAPWef/YCmbHCls2nuTcYKSaMqcI94stzbWe5kYAZp1dltpAv0+LCiJ5qKyRaXqC0aZ+zpulTcNQZL7/QjR7gv931S9Psiq7/n65Ms10uvuDWCuK9HOJfODt7uirsVEjnalyUgg9tmBO40kkqxsxb96k2Sy8b0FwEAjaDZFXfqSirltV5vA5Y+KlmBoFIWJmkVgkqZQNJKxnuxTOAGrEhieuB+RSwbk1bCSZIDJ0kOnCQ5cJLkwEmSAydJDpwkOXCS5MBJkgM/qV8JbW5/wpAAAAAASUVORK5CYII=\" y=\"-10.290455\"/>\r\n",
       "   </g>\r\n",
       "  </g>\r\n",
       "  <g id=\"axes_2\">\r\n",
       "   <g clip-path=\"url(#p226bd3fce9)\">\r\n",
       "    <image height=\"73\" id=\"imaged7547249c7\" transform=\"scale(1 -1)translate(0 -73)\" width=\"73\" x=\"118.034443\" xlink:href=\"data:image/png;base64,\r\n",
       "iVBORw0KGgoAAAANSUhEUgAAAEkAAABJCAYAAABxcwvcAAAABHNCSVQICAgIfAhkiAAABBpJREFUeJztWu1tMyEM5k6dIr87QIaolAW6bLbIFO0UVfqLvs5Tf0Ewpq/ukaL2OBsbYxsDt319vt4vp3MppZTrx61U1DYNHH1tu5zOD++9bVQu0lJ6TmerP6lPbQyllLIjMyXUOuQUqG21nVMQ33ll1H4rPdWPykRepKd0kp5U3+vHrbzQmUHB+Mx1gopIA8T3Wr/0vdU3pwuV5/Vo1Im+f+EU7JltnCVtgBwNJ1syJDeZtV0yAPajTS5ie9ve75YAT36SoA0UvVgLT45Hkof90nFoz1z75XT+l5NwQPTnMYKmMKXTZhnDUZJNUwH9oU4oy3qWZG9fn693S+FnPEkSLoUZhpEWPsiHHmCFkRe7thpV9AqTEibnsUhH6bGd8nI8XLv0zPWL7zZaJ0XC8kwph1De1tC3ai5JDm2/ftwew80KBVTIa1xPcSclaGkwUlFpFY8tJUHFrhWEWMBxCrdCW01oKHpyIhd+yM+lEim9SO1s4kblNUU9sJZZDd4QszyIk20VnRU/dRIllp5nQctP9T1tk+qn1pWSw+V0Lrvm1iOX/h4eulJhVc3B43XaSo5pptKIq9uIMPNghLd6Fhqka/Gqh3DDzqwtQAus5K+tcla/Gs2I4pI10kxIg5SWeakNeUuRJ8GKEny/vW3v95mh5VWuJ8GO2oYg9ioAa4wogS0TYdFiEo6a5PRwk6CFUSm/wyZqUkspj0cl0eg9utD6mlHHsSeTVJGRSmDS1fpurYUijbVz+Sdyljw1jKaT1RaBaUclFb2bZY1vpLE4XX7CjdsPaYwjlLD2itaRCUfTenzjSfo7ZZgF7kjEayDKg7AGjBNvVer1tyNDfREZgtwmEhWsf7kzI+yL/qX8+NxbKkw5T+LAhbPmIZTPm8NGHQz+5CRtRrNATyxbBtybp1B2hXilhMIiPMm7wZxZOHL4VXFjDsC2UdByiEU/Gy+Zwiu0Y48KzZuiPW3q3s2CteXQ3oduS1oZspI5hmfkcQ6i2Uitq8xIWhpWo7zHY+z08yTv8Wsm0nOStzDMrNnSjYTgPCs6MVtYLnFHn1f3IDRx/y+YFm6jVzpvPyP6Sl/dWtC7h3x275mSuHtnt3egz6aIFCNF35ONRloJoBkKtx3ZBl02J0VdRPRgqWJS8pxsj1omceMpKK2yswvMZcONIvr2xsJS4SYh4qa2BU8b6RnFtdUtSmYPnjZSaxhoN7YWD35oNgvqpzcR4Ooj6wKAu8GZidRishQ7KXOnlrPDLdyTuKLQ+lAB/89O3KklgFZVW5/lzMQydRIm5+ytCMVUI7UMfqUbk2U8aWWkfqL8VzDVSH/hjo3DUnu3lfIQxfSKG4H3+ysi3UirGoZiqXBbFYeRHDiM5MBhJAcOIzlwGMmBw0gOHEZy4DCSA9/IMREnfzQ1DAAAAABJRU5ErkJggg==\" y=\"-10.290455\"/>\r\n",
       "   </g>\r\n",
       "  </g>\r\n",
       "  <g id=\"axes_3\">\r\n",
       "   <g clip-path=\"url(#p704521eeb0)\">\r\n",
       "    <image height=\"73\" id=\"imageae449f7961\" transform=\"scale(1 -1)translate(0 -73)\" width=\"73\" x=\"205.373573\" xlink:href=\"data:image/png;base64,\r\n",
       "iVBORw0KGgoAAAANSUhEUgAAAEkAAABJCAYAAABxcwvcAAAABHNCSVQICAgIfAhkiAAABR1JREFUeJzlXNttKzsMlBdbhb9TQIoI4AbSbLpIFUkVQc6X9tDMzIh6rgEPcIF4V6Ioio8R7XMvP98vvymldLu+po+vz5SRP9+urymldLzz4/KzPMaPLyGP9/OZDKsX0xc992sh+WivKaW0lQShSVYoWjgri2QhhfJ/bJyVlcd5Q6g10Fx7IGi+tcnuT0CdnlfOew47KeRd6lD8hpgB0PoRb0bRwPT7+PpMFxRuaLNIGa8sms9cWsn2c9mcUnh5qHBDe8rY2eaVF6DFkSchBVGYKK9SOQuFCzKchzpgtP6GJueXVgn7N3JLpQyS7RVR3oIUt7lMpQkvk4WUN7iduzMPiCRGpogKPRROqoqWDkXlO6YrkuF1sZ835L4e0STrF0Qeg7wVjWPj/Vw0h+0pQkvQmpef75df5SkIpWRsx6jT8+OZUUqHhPSKVjo7Fj1PKf2vbj0biniYkuWfs3wUKfeqguX37Bnb/4Y2aMNAcQoUKkqOMpBNwCz8kHy0WS/bj0XP/L4s7niSFe4XrXV9v7BHqViocWhOJPf4YsDojx2bUkqXt8v7EW6o+rBQG4EIWbRKs3lo435chD8xmVuJv4yAOlmVz+x7RBeQvBJvU6HGQpJWtwjP6UEkbKNcraWQRLwqYy8ZiLlyLRRz9s/UZ4XoYTN9GO5yEsNID6oFS7ARD1T5yb9X8y9vl/fflorVghoug56zMZHxPTiabp5jzFpQ8bLI2IwWutCKULg9ChSHi3hdllGTtG/X17VGYjwsmvOiyX80pJFmJOwoQT2zWHhsKf09oZmJXOWeEi9id8jZaGqV9KJ03UBQhoxcb1gFZJTAzjmMpPo/s4zI7loKLGFHc1Ppnoj2v0eVm4FS1VGMX7F15jns0myfIa+S7Vt1Ae0B4mH+NFvCsNSPavHclFxnUikxGtG+lX2P8oua20IPkLzdfvAbmJnQ0WkzwzAda9seeV5EJ/u39KQRt38Flh+YR9Tc0Vj+UbqwPPfHSMpFRxpL0QD1Wcnx8kZV6C0nSX/JnY1ICPiqo0hvS0KOYq8ROPuqUNKFhVvWa5ZuW3nIPUaeEivVfh1U0Zj3lPRr0b/aSK2IbkJVLCtL8ayI/Jqe2dF0W4Vocy2yAcSU2VxLNtmaDEUyiVBr1J4q01L62bqtOXV6uLUYqNeo6vmSnLQiNFvDLzI2e1R1ThqFKOVvAZuvKiR6zriVwmGkyITSGJaUa0hqbTjMuKJ4HD3uaGnuRSR5qg1FjaguxLUIhdvIPBTxKkQWU2r3st6bwhZZePRdqEXhFh1GHW6YJ60inNHWay9q9gN/Dogwqzug2LHHqIOqlRMKt4wZhkIMuZcnlVAr69QuAIK9PvjL7oi1W1oqTXc3u2ALWLWJcJlRhqrB3rNYa2ktXTZXdkgjWNZP8oi2TNTcHk+uQbeRWk6c9atrWiErvW2IJ/VUyGyc0sW0paPIZNWiK3G3KFH6Xo19/2Xl93rQ0uoWAfrS0cIbxf+dx4zWpwZLOpO1m/RcpjdR96KLAoyAN4bqaZ9FC06jAB4oQc/wHOvZD/mVUo0nrCjxVe3bM77/L+GRGPdd+3YVQav9lchMPSJfVj5MTspYXcEiXYGjuq1UDt32zwqviCfd/SulZ0F1ZzJPOouonQH/44qSk5xOJs9GxDme1kjo903o/e1q/q83M7+deGSoFk1+J38L8GwJPSW856WM+xFRCruUHpBMrkS0qt9dcFHf5pnzUgb956XPFIIlI/0DRGShHzdhYsgAAAAASUVORK5CYII=\" y=\"-10.290455\"/>\r\n",
       "   </g>\r\n",
       "  </g>\r\n",
       "  <g id=\"axes_4\">\r\n",
       "   <g clip-path=\"url(#p5ce240f776)\">\r\n",
       "    <image height=\"73\" id=\"image5c430a9ad4\" transform=\"scale(1 -1)translate(0 -73)\" width=\"73\" x=\"292.712704\" xlink:href=\"data:image/png;base64,\r\n",
       "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\" y=\"-10.290455\"/>\r\n",
       "   </g>\r\n",
       "  </g>\r\n",
       "  <g id=\"axes_5\">\r\n",
       "   <g clip-path=\"url(#p4aae3d8718)\">\r\n",
       "    <image height=\"73\" id=\"image0070096260\" transform=\"scale(1 -1)translate(0 -73)\" width=\"73\" x=\"30.695312\" xlink:href=\"data:image/png;base64,\r\n",
       "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\" y=\"-128.894092\"/>\r\n",
       "   </g>\r\n",
       "  </g>\r\n",
       "  <g id=\"axes_6\">\r\n",
       "   <g clip-path=\"url(#p2d668a589b)\">\r\n",
       "    <image height=\"73\" id=\"image223898e119\" transform=\"scale(1 -1)translate(0 -73)\" width=\"73\" x=\"118.034443\" xlink:href=\"data:image/png;base64,\r\n",
       "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\" y=\"-128.894092\"/>\r\n",
       "   </g>\r\n",
       "  </g>\r\n",
       "  <g id=\"axes_7\">\r\n",
       "   <g clip-path=\"url(#p8644dc5cec)\">\r\n",
       "    <image height=\"73\" id=\"imagea6a46586e6\" transform=\"scale(1 -1)translate(0 -73)\" width=\"73\" x=\"205.373573\" xlink:href=\"data:image/png;base64,\r\n",
       "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\" y=\"-128.894092\"/>\r\n",
       "   </g>\r\n",
       "  </g>\r\n",
       "  <g id=\"axes_8\">\r\n",
       "   <g clip-path=\"url(#pf4fdba8e8b)\">\r\n",
       "    <image height=\"73\" id=\"imagee140d3fc06\" transform=\"scale(1 -1)translate(0 -73)\" width=\"73\" x=\"292.712704\" xlink:href=\"data:image/png;base64,\r\n",
       "iVBORw0KGgoAAAANSUhEUgAAAEkAAABJCAYAAABxcwvcAAAABHNCSVQICAgIfAhkiAAAB/JJREFUeJytnNtt3EoQRLmEotC3A1AQBpSAk1UWikKOwtD9sLkuFk9Vz8p3AIHkcKa7+lU9Wq19+3778bn9GW8f75uO1+eX+9zr88tpzfHcxtvHO6475pM+vRI2f0+YdM7vH5nbtm3bjxfHpBtFRvqcG0tOUT1NzjGXnKjzKnfCo3JJZ0uQpxQVUjZ5fHpPhrhel0FZkjCvBMtHq4jj3ZMqdRBkxKS0KW9ZNDkm6fLydOd5duoev0+27g7UI+agPTNaOVIquwHkBC2r5NjGX2686qOsSwE4cOwukOpcnddSPaXuCsm7gao3OdnfpXJKzWa1PG/a3aaNqeu0smggk77WfZqhVC6JOpIcIvHbr5/fPifhbmAi6EfB+mj605h4xjEnve34cM+klfpu3aF1uVXjVoxqgfM5MjhhSQ3g7eP9d3ejDfrcsoYAuzH6nrKwGfrIsaLpbiWXMum4nrpbavPJYCd7B3I4uJE8yU+Z6BFu3c/xuT3tjOVd/vbr57dPfdl4ZuIiGivHiK92H9fR9qUMIhlu5+377cdncoaPRzvfBIQMTEDT0SOV0jRaEvi4HCYVpKepH+a8lFQxlR6lNpWN6iL5yVlux6NzKWA7OcdrUo1Mgqgc1aDEa+6IhEfXpr0rR47WhVWGXvcE3iPnypITWhZQuSXdbqxjcT2p1FJ5psynceckqlE1qLVcMvyRNk86VvhCcaer2/PInmNgJjXSJv6g0Yxu+9yoxmUrHVjnydGNPo7rjiu2ayRdQCqXRIZEjsmQdlygfY6nYaOyI3zq7MsvuLpAFa4cCQjENNqZpbX/lbKanhNe1/eUarFxR3IMrZ+AJnlT5k3E3zrqZIPqeH1++fspQKvtRtqTkcmgyUACu5JBvkf1t+xuzeX+awmBbNFqBrU9PlJZqFErJZJkrGBJmC+Z5Jum1E0CydAV2cnZ/3KUaHzj2NPztv35QwAx/ETKDrYBbwY0LmzHhtXMTzIngteBh8mJ4KaWvMJj7X3bpzqSvlSWjS+bzbsLSYbTfTpjKEC9pjPKce/dLnU/N4r00fCso2Cp/OO+fujmzll9r1eKKEVYf1rZTiXnw3WQ7OS4Y+3um9KVgHo2uNLJsf5M0W1nmJXRsLaOqvv3lWgQOfuYyDNlkRpADnO9E5+0DqslROWt+1TWngAmQ79CuARSdel8y76JGwl7qggtb5/z9bG7eTeY2jsB1PWtA7Y2ThhWxgr21iH1/a4TLVIUuVTjDlTfE8E3B5ERHnF69vUreNN7/FbJBJZGc5SucSNacHxPwpf4tGXS1Kl1nL4wQd6nyOu9G5GyzMErIO88+uP6kxMVMzmWsprw0D2WW3NYGxNfUeZMESWnU2m5jNQdG750nLl8YWIi1VTHbqCvSeRIBjRnTg5+BHuS7Wvv5UaZpMatRGVa02Ql3qPSJLnuvKl7UnCp7O9OagIIRHIEZaTOp72tMSQKSCNhVZ3uNCphlXP66o0qShFzhSvnmKlsmv6Vo8gKrhaAhONYc/rCRBqNHF0hpfbEMeQgck7ivxac1WA6Zt1zKjdKNQKVup+Cdl5pIFq2TMYQpxF2zyo6NiSb7sTtxqkwF7BivAJeTfXJMT6awWTsimPxnJQMahzjgMgQdS7J82xz4+neHeCGUyufuqwHlwKC5yQC10ZzmKf5/yF7ImcKdOKwlYZz+UPA1NXceL9vXOa6HDAZnjgqZTw5ijBPDtT3O9Vja88+6GzlqdzIODWElWDR3tRx3fCElTju8qEbZQTxib4j8L4/GeqAjytxpL5LxnvQG+8R4bt927adP771kTqTK/MuoyAowxJxulxyCnHStK/h1LWJt+JfcI+x0u1W+cXXk87VknuEmFdHytLTRyVURg2or0kR0rVuiPNBMp5KKPFgyhbf51fitW3bzv8igDoCzafu4XvcEJLp6wm063T5DQOVIwWDAnXMn75608qAjCGjHtnXjF+R0biJ9iUHUUBV18VJU5YkjmnPydBVHSnL6NnXJb2r2F+fX86/lhBY6kLUOdIRonUNSndalzhodZBt6ZjinPb28X79LgBtJCJMIJxASbEbSU5wHPQukbRjXnVuklN/d5u6G420L8058OkclDCkYwu98znSq2tOn3HTvUc0gUvRmoBqNqQsdqckmS3AKUuSDsV1+X8B3DktqpSBDYw6Rt+1o4AaT0cC0tXKqx0ZUjbGwyTxihqhQqbyS84lGdRdVYZ3YM98GpSFup7KTHWcvjChIGlzmnOnTGcQNZbAN2f5XnfaNOeYkq36fDpxp+7mRk61344LaT1lQSobz6RWdtM6dwglwU6G0j2VVSq5dr/SLbUcXUcq78Q9yTnOba0hPREpNuEOaCWNJ0cR/6So6kg8Ro0kNZ7kLNV9/9AtgVbgxyb9aQ5SICmL3AnezRKOdPVBNJH4z51zPI//mruRpitfzYBkkO9pjSNhdqMdVyJ1l33iJJ+g6DVArqA5MxmuelNmt0whI31Ps6M1jhMnkTAXSFxD3JWi6MNl07zKaxno+tTIJKd1RcWNv+AS6ZEAAqbgqMsRlyWuIAOaLMWo76kpNFpwZ+5NQYuuC03AmkzP0JYpySDqZLqe9k7O8bnLf+jiQlK3+krqJ+5wUCk47pDEI5OzGl7Ve4zLF0vTpsQ9ROCp3NxIN5jKsznM51acQXyVsvEYe0qxBJTAUfoSASqgJifJJGNSQ3AZjQt1KL7j5z9I73S8WV1x7QAAAABJRU5ErkJggg==\" y=\"-128.894092\"/>\r\n",
       "   </g>\r\n",
       "  </g>\r\n",
       " </g>\r\n",
       " <defs>\r\n",
       "  <clipPath id=\"pab3a12b8f2\">\r\n",
       "   <rect height=\"72.782609\" width=\"72.782609\" x=\"30.695312\" y=\"10.507846\"/>\r\n",
       "  </clipPath>\r\n",
       "  <clipPath id=\"p226bd3fce9\">\r\n",
       "   <rect height=\"72.782609\" width=\"72.782609\" x=\"118.034443\" y=\"10.507846\"/>\r\n",
       "  </clipPath>\r\n",
       "  <clipPath id=\"p704521eeb0\">\r\n",
       "   <rect height=\"72.782609\" width=\"72.782609\" x=\"205.373573\" y=\"10.507846\"/>\r\n",
       "  </clipPath>\r\n",
       "  <clipPath id=\"p5ce240f776\">\r\n",
       "   <rect height=\"72.782609\" width=\"72.782609\" x=\"292.712704\" y=\"10.507846\"/>\r\n",
       "  </clipPath>\r\n",
       "  <clipPath id=\"p4aae3d8718\">\r\n",
       "   <rect height=\"72.782609\" width=\"72.782609\" x=\"30.695312\" y=\"129.111483\"/>\r\n",
       "  </clipPath>\r\n",
       "  <clipPath id=\"p2d668a589b\">\r\n",
       "   <rect height=\"72.782609\" width=\"72.782609\" x=\"118.034443\" y=\"129.111483\"/>\r\n",
       "  </clipPath>\r\n",
       "  <clipPath id=\"p8644dc5cec\">\r\n",
       "   <rect height=\"72.782609\" width=\"72.782609\" x=\"205.373573\" y=\"129.111483\"/>\r\n",
       "  </clipPath>\r\n",
       "  <clipPath id=\"pf4fdba8e8b\">\r\n",
       "   <rect height=\"72.782609\" width=\"72.782609\" x=\"292.712704\" y=\"129.111483\"/>\r\n",
       "  </clipPath>\r\n",
       " </defs>\r\n",
       "</svg>\r\n"
      ],
      "text/plain": [
       "<Figure size 432x288 with 8 Axes>"
      ]
     },
     "metadata": {
      "needs_background": "light"
     },
     "output_type": "display_data"
    }
   ],
   "source": [
    "figure()\n",
    "subplot(241)\n",
    "imshow(I8bit[:,:,0])\n",
    "axis(\"off\")\n",
    "subplot(242)\n",
    "imshow(I8bit[:,:,1])\n",
    "axis(\"off\")\n",
    "subplot(243)\n",
    "imshow(I8bit[:,:,2])\n",
    "axis(\"off\")\n",
    "subplot(244)\n",
    "imshow(I8bit[:,:,3])\n",
    "axis(\"off\")\n",
    "subplot(245)\n",
    "imshow(I8bit[:,:,4])\n",
    "axis(\"off\")\n",
    "subplot(246)\n",
    "imshow(I8bit[:,:,5])\n",
    "axis(\"off\")\n",
    "subplot(247)\n",
    "imshow(I8bit[:,:,6])\n",
    "axis(\"off\")\n",
    "subplot(248)\n",
    "imshow(I8bit[:,:,7])\n",
    "axis(\"off\")\n",
    "show()"
   ]
  },
  {
   "cell_type": "markdown",
   "metadata": {},
   "source": [
    "#### 游程编码"
   ]
  },
  {
   "cell_type": "code",
   "execution_count": 66,
   "metadata": {},
   "outputs": [
    {
     "name": "stdout",
     "output_type": "stream",
     "text": [
      "压缩前大小： 65648 压缩后大小： 16560\n"
     ]
    }
   ],
   "source": [
    "lineDiff =  np.zeros(np.shape(I8bit))\n",
    "code = []\n",
    "for k in range(I8bit.shape[2]): # k 表示比特位\n",
    "    for l in range(I8bit.shape[0]): # l表示行数\n",
    "        lineDiff[l,:-1,k] = np.diff(I8bit[l,:,k]) \n",
    "        placeM1 = np.array(np.where(lineDiff[l,:,k]==-1)) # -1的位置\n",
    "        placeP1 = np.array(np.where(lineDiff[l,:,k]==1)) # 1的位置\n",
    "        place = np.hstack((placeM1,placeP1))\n",
    "#         place = np.hstack([placeM1,placeP1],[-1,I8bit.shape[1]-1])\n",
    "        place = np.append(place,[-1,I8bit.shape[1]-1])\n",
    "        place = np.sort(place)\n",
    "        number = np.diff(place)\n",
    "        if any(placeM1)==False:\n",
    "            if I8bit[l,0,k] == 1:\n",
    "                code.append(['1'])\n",
    "            else:\n",
    "                code.append(['0'])\n",
    "        else:\n",
    "            if placeM1[0][0]>placeP1[0][0]:\n",
    "                code.append(['0'])\n",
    "            else:\n",
    "                code.append(['1'])\n",
    "        code[k*I8bit.shape[0]+l].append(number)\n",
    "print('压缩前大小：',sys.getsizeof(Im),'压缩后大小：',sys.getsizeof(code))\n"
   ]
  },
  {
   "cell_type": "markdown",
   "metadata": {},
   "source": [
    "##### 写在最后\n",
    "最后得到的code就是编码之后的结果，至于重构，就先不放上来了"
   ]
  },
  {
   "cell_type": "markdown",
   "metadata": {},
   "source": [
    "\n"
   ]
  }
 ],
 "metadata": {
  "anaconda-cloud": {},
  "kernelspec": {
   "display_name": "Python 3",
   "language": "python",
   "name": "python3"
  },
  "language_info": {
   "codemirror_mode": {
    "name": "ipython",
    "version": 3
   },
   "file_extension": ".py",
   "mimetype": "text/x-python",
   "name": "python",
   "nbconvert_exporter": "python",
   "pygments_lexer": "ipython3",
   "version": "3.7.3"
  },
  "latex_envs": {
   "LaTeX_envs_menu_present": true,
   "autoclose": false,
   "autocomplete": true,
   "bibliofile": "biblio.bib",
   "cite_by": "apalike",
   "current_citInitial": 1,
   "eqLabelWithNumbers": true,
   "eqNumInitial": 1,
   "hotkeys": {
    "equation": "Ctrl-E",
    "itemize": "Ctrl-I"
   },
   "labels_anchors": false,
   "latex_user_defs": false,
   "report_style_numbering": false,
   "user_envs_cfg": false
  },
  "varInspector": {
   "cols": {
    "lenName": 16,
    "lenType": 16,
    "lenVar": 40
   },
   "kernels_config": {
    "python": {
     "delete_cmd_postfix": "",
     "delete_cmd_prefix": "del ",
     "library": "var_list.py",
     "varRefreshCmd": "print(var_dic_list())"
    },
    "r": {
     "delete_cmd_postfix": ") ",
     "delete_cmd_prefix": "rm(",
     "library": "var_list.r",
     "varRefreshCmd": "cat(var_dic_list()) "
    }
   },
   "oldHeight": 419,
   "position": {
    "height": "441px",
    "left": "1506px",
    "right": "20px",
    "top": "170px",
    "width": "352px"
   },
   "types_to_exclude": [
    "module",
    "function",
    "builtin_function_or_method",
    "instance",
    "_Feature"
   ],
   "varInspector_section_display": "block",
   "window_display": true
  }
 },
 "nbformat": 4,
 "nbformat_minor": 2
}
