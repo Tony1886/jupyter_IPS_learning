{
 "cells": [
  {
   "cell_type": "code",
   "execution_count": 43,
   "metadata": {},
   "outputs": [
    {
     "name": "stdout",
     "output_type": "stream",
     "text": [
      "capture\n"
     ]
    }
   ],
   "source": [
    "import cv2\n",
    "import time\n",
    "\n",
    "capture = cv2.VideoCapture(0) # 调用摄像头\n",
    "face_cascade = cv2.CascadeClassifier(\n",
    "    cv2.haarcascades + './haarcascade_frontalface_default.xml')  # 使用已经训练好的结果进行人脸识别\n",
    "while(True):\n",
    "    # 获取一帧\n",
    "    ret, image = capture.read()\n",
    "    \n",
    "    # 将这帧转换为灰度图\n",
    "#     gray = cv2.cvtColor(frame, cv2.COLOR_BGR2GRAY)\n",
    "#     gray = cv2.Canny(gray,40,100)\n",
    "    gray = cv2.cvtColor(image, cv2.COLOR_BGR2BGRA)\n",
    "    faces = face_cascade.detectMultiScale(\n",
    "        gray,\n",
    "        scaleFactor=1.1,\n",
    "        minNeighbors=10,\n",
    "        minSize=(100, 10),\n",
    "        # flags = cv2.cv.CV_HAAR_SCALE_IMAGE\n",
    "    )\n",
    "    for(x, y, w, h) in faces:\n",
    "    #     cv2.rectangle(image, (x, y), (x+w, y+h), (0, 255, 0), 5)\n",
    "        cv2.circle(image,(int((x+x+w)/2),int((y+y+h)/2)),int(w/2),(0,255,0),5) # 识别出来的人脸加上圈\n",
    "    cv2.imshow('frame', image)\n",
    "    key = cv2.waitKey(1)\n",
    "    if key == ord('q'):\n",
    "        cv2.destroyAllWindows()\n",
    "        break\n",
    "    elif key == ord('s'):\n",
    "        print(\"capture\")\n",
    "        now = time.strftime(\"%Y-%m-%d-%H_%M_%S\",time.localtime(time.time()))\n",
    "#         saveName = \"./img/\"+now+\".jpg\"\n",
    "        saveName = now+\".jpg\"\n",
    "        cv2.imwrite(saveName, image)\n",
    "        continue\n",
    "        "
   ]
  },
  {
   "cell_type": "code",
   "execution_count": null,
   "metadata": {},
   "outputs": [],
   "source": []
  }
 ],
 "metadata": {
  "kernelspec": {
   "display_name": "Python 3",
   "language": "python",
   "name": "python3"
  },
  "language_info": {
   "codemirror_mode": {
    "name": "ipython",
    "version": 3
   },
   "file_extension": ".py",
   "mimetype": "text/x-python",
   "name": "python",
   "nbconvert_exporter": "python",
   "pygments_lexer": "ipython3",
   "version": "3.7.3"
  },
  "latex_envs": {
   "LaTeX_envs_menu_present": true,
   "autoclose": false,
   "autocomplete": true,
   "bibliofile": "biblio.bib",
   "cite_by": "apalike",
   "current_citInitial": 1,
   "eqLabelWithNumbers": true,
   "eqNumInitial": 1,
   "hotkeys": {
    "equation": "Ctrl-E",
    "itemize": "Ctrl-I"
   },
   "labels_anchors": false,
   "latex_user_defs": false,
   "report_style_numbering": false,
   "user_envs_cfg": false
  },
  "varInspector": {
   "cols": {
    "lenName": 16,
    "lenType": 16,
    "lenVar": 40
   },
   "kernels_config": {
    "python": {
     "delete_cmd_postfix": "",
     "delete_cmd_prefix": "del ",
     "library": "var_list.py",
     "varRefreshCmd": "print(var_dic_list())"
    },
    "r": {
     "delete_cmd_postfix": ") ",
     "delete_cmd_prefix": "rm(",
     "library": "var_list.r",
     "varRefreshCmd": "cat(var_dic_list()) "
    }
   },
   "types_to_exclude": [
    "module",
    "function",
    "builtin_function_or_method",
    "instance",
    "_Feature"
   ],
   "window_display": false
  }
 },
 "nbformat": 4,
 "nbformat_minor": 2
}
